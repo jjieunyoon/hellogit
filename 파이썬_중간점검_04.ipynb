{
 "cells": [
  {
   "cell_type": "markdown",
   "metadata": {},
   "source": [
    "# 파이썬 연습문제 04\n",
    "\n",
    "---\n",
    "\n",
    "# 문제(1~4)\n",
    "\n",
    "아래의 데이터는 2021년 01월 25일부터 02월 01일까지의 Covid19 일별 확진자 수를 표현한 자료구조다.\n",
    "\n",
    "```python\n",
    "covid19 = [\n",
    "    {'0125': 426}, {'0126': 343}, {'0127': 547}, {'0128': 490}, \n",
    "    {'0129': 460}, {'0130': 443}, {'0131': 338}, {'0201': 299}\n",
    "]\n",
    "```\n",
    "\n",
    "위 데이터를 기반으로하여 아래의 물음에 답하시오.\n",
    "\n",
    "## 문제1.\n",
    "\n",
    "1월 25일부터 2월 1일까지의 누적 확진자 수를 구하시오."
   ]
  },
  {
   "cell_type": "code",
   "execution_count": 7,
   "metadata": {},
   "outputs": [
    {
     "name": "stdout",
     "output_type": "stream",
     "text": [
      "426\n",
      "343\n",
      "547\n",
      "490\n",
      "460\n",
      "443\n",
      "338\n",
      "299\n",
      "누적 확진자 수: 3346\n"
     ]
    }
   ],
   "source": []
  },
  {
   "cell_type": "markdown",
   "metadata": {},
   "source": [
    "---\n",
    "\n",
    "## 문제2.\n",
    "\n",
    "1월 25일부터 2월 1일까지의 일 평균 확진자 수는 얼마인가?"
   ]
  },
  {
   "cell_type": "code",
   "execution_count": 10,
   "metadata": {},
   "outputs": [
    {
     "name": "stdout",
     "output_type": "stream",
     "text": [
      "평균 확진자 수: 418.25\n"
     ]
    }
   ],
   "source": []
  },
  {
   "cell_type": "markdown",
   "metadata": {},
   "source": [
    "---\n",
    "\n",
    "## 문제3\n",
    "\n",
    "1월 25일부터 2월 1일까지 중에서 확진자가 가장 많이 나타난 날짜는 언제인가?"
   ]
  },
  {
   "cell_type": "code",
   "execution_count": 14,
   "metadata": {},
   "outputs": [
    {
     "name": "stdout",
     "output_type": "stream",
     "text": [
      "확진자가 가장 많이 나타난 날: 0127\n"
     ]
    }
   ],
   "source": []
  },
  {
   "cell_type": "markdown",
   "metadata": {},
   "source": [
    "---\n",
    "\n",
    "## 문제 4\n",
    "\n",
    "위의 데이터를 확진자 수에 대한 오름차순으로 정렬하시오."
   ]
  },
  {
   "cell_type": "code",
   "execution_count": 15,
   "metadata": {},
   "outputs": [
    {
     "name": "stdout",
     "output_type": "stream",
     "text": [
      "[{'0201': 299}, {'0131': 338}, {'0126': 343}, {'0125': 426}, {'0130': 443}, {'0129': 460}, {'0128': 490}, {'0127': 547}]\n"
     ]
    }
   ],
   "source": []
  },
  {
   "cell_type": "markdown",
   "metadata": {},
   "source": [
    "---\n",
    "\n",
    "## 문제5.\n",
    "\n",
    "숫자 x를 입력받은 후 x에 대한 팩토리얼을 for문을 활용하여 구하시오."
   ]
  },
  {
   "cell_type": "code",
   "execution_count": 17,
   "metadata": {
    "tags": []
   },
   "outputs": [
    {
     "name": "stdin",
     "output_type": "stream",
     "text": [
      "숫자 x를 입력하세요: 7\n"
     ]
    },
    {
     "name": "stdout",
     "output_type": "stream",
     "text": [
      "1\n",
      " >> 1\n",
      "2\n",
      " >> 2\n",
      "3\n",
      " >> 6\n",
      "4\n",
      " >> 24\n",
      "5\n",
      " >> 120\n",
      "6\n",
      " >> 720\n",
      "7\n",
      " >> 5040\n",
      "7의 팩토리얼은 5040\n"
     ]
    }
   ],
   "source": []
  },
  {
   "cell_type": "markdown",
   "metadata": {},
   "source": [
    "---\n",
    "\n",
    "## 문제6.\n",
    "\n",
    "다음은 어느 학급의 중간고사 평균 점수에 대한 표이다.\n",
    "\n",
    "```python\n",
    "성적표 = [87, 67, 46, 91, 34, 88, 95, 62, 83]\n",
    "```\n",
    "\n",
    "성적이 가장 높은 학생과 가장 낮은 학생간에는 몇 점 차이가 나는지 구하시오."
   ]
  },
  {
   "cell_type": "code",
   "execution_count": 18,
   "metadata": {},
   "outputs": [
    {
     "name": "stdout",
     "output_type": "stream",
     "text": [
      "최대값=95, 최소값=34\n",
      "61\n"
     ]
    }
   ],
   "source": []
  },
  {
   "cell_type": "markdown",
   "metadata": {},
   "source": [
    "---\n",
    "\n",
    "## 문제7\n",
    "\n",
    "lang1, lang2 리스트가 아래와 같이 있을 때 두 개의 리스트를 합한 lang3를 만드시오.\n",
    "\n",
    "```python\n",
    "lang1 = [1, 3, 5, 7, 9]\n",
    "lang2 = [2, 4, 6, 8]\n",
    "```"
   ]
  },
  {
   "cell_type": "code",
   "execution_count": 19,
   "metadata": {},
   "outputs": [
    {
     "data": {
      "text/plain": [
       "[1, 3, 5, 7, 9, 2, 4, 6, 8]"
      ]
     },
     "execution_count": 19,
     "metadata": {},
     "output_type": "execute_result"
    }
   ],
   "source": []
  },
  {
   "cell_type": "markdown",
   "metadata": {},
   "source": [
    "---\n",
    "\n",
    "## 문제8\n",
    "\n",
    "1부터 100까지의 모든 정수를 원소로 갖는 `mylist`를 정의하시오.\n",
    "\n",
    "이 리스트의 원소를 걸고 369 게임을 할 때 박수를 총 몇 번 쳐야 하는지 구하시오."
   ]
  },
  {
   "cell_type": "code",
   "execution_count": 27,
   "metadata": {},
   "outputs": [
    {
     "name": "stdout",
     "output_type": "stream",
     "text": [
      "[1, 2, 3, 4, 5, 6, 7, 8, 9, 10, 11, 12, 13, 14, 15, 16, 17, 18, 19, 20, 21, 22, 23, 24, 25, 26, 27, 28, 29, 30, 31, 32, 33, 34, 35, 36, 37, 38, 39, 40, 41, 42, 43, 44, 45, 46, 47, 48, 49, 50, 51, 52, 53, 54, 55, 56, 57, 58, 59, 60, 61, 62, 63, 64, 65, 66, 67, 68, 69, 70, 71, 72, 73, 74, 75, 76, 77, 78, 79, 80, 81, 82, 83, 84, 85, 86, 87, 88, 89, 90, 91, 92, 93, 94, 95, 96, 97, 98, 99, 100]\n",
      "60\n"
     ]
    }
   ],
   "source": []
  },
  {
   "cell_type": "code",
   "execution_count": null,
   "metadata": {},
   "outputs": [],
   "source": []
  }
 ],
 "metadata": {
  "kernelspec": {
   "display_name": "Python 3",
   "language": "python",
   "name": "python3"
  },
  "language_info": {
   "codemirror_mode": {
    "name": "ipython",
    "version": 3
   },
   "file_extension": ".py",
   "mimetype": "text/x-python",
   "name": "python",
   "nbconvert_exporter": "python",
   "pygments_lexer": "ipython3",
   "version": "3.8.8"
  }
 },
 "nbformat": 4,
 "nbformat_minor": 4
}
