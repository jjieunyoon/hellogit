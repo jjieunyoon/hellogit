{
 "cells": [
  {
   "cell_type": "code",
   "execution_count": 1,
   "id": "olympic-depression",
   "metadata": {},
   "outputs": [
    {
     "name": "stdout",
     "output_type": "stream",
     "text": [
      "23920000\n"
     ]
    }
   ],
   "source": [
    "daum = 89000\n",
    "naver = 751000\n",
    "my = daum * 100 + naver * 20\n",
    "\n",
    "print(my)    "
   ]
  },
  {
   "cell_type": "code",
   "execution_count": 3,
   "id": "given-tuning",
   "metadata": {},
   "outputs": [
    {
     "name": "stdin",
     "output_type": "stream"
     "text": [
      "숫자를 입력하세요: 70\n"
     ]
    },
    {
     "name": "stdout",
     "output_type": "stream",
     "text": [
      "A\n"
     ]
    }
   ],
   "source": [
    "point = int(input(\"숫자를 입력하세요:\"))\n",
    "\n",
    "if point >=90:\n",
    "    print(\"A\")\n",
    "elif point >= 80:\n",
    "    print(\"B\")\n",
    "elif point >= 70:\n",
    "    print(\"C\")\n",
    "elif point >= 60:\n",
    "    print(\"D\")\n",
    "    \n",
    "else:\n",
    "    print(\"F\")"
   ]
  },
  {
   "cell_type": "code",
   "execution_count": null,
   "id": "adjacent-language",
   "metadata": {},
   "outputs": [],
   "source": []
  }
 ],
 "metadata": {
  "kernelspec": {
   "display_name": "Python 3",
   "language": "python",
   "name": "python3"
  },
  "language_info": {
   "codemirror_mode": {
    "name": "ipython",
    "version": 3
   },
   "file_extension": ".py",
   "mimetype": "text/x-python",
   "name": "python",
   "nbconvert_exporter": "python",
   "pygments_lexer": "ipython3",
   "version": "3.8.8"
  }
 },
 "nbformat": 4,
 "nbformat_minor": 5
}
